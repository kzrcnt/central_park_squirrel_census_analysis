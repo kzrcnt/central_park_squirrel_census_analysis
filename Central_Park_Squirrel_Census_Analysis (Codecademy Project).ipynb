{
 "cells": [
  {
   "cell_type": "markdown",
   "id": "1b9062a0-7676-40f4-b047-f1c02434a8ce",
   "metadata": {},
   "source": [
    "# The Unexpected Joy of (Analyzing) the Central Park Squirrel Census\n",
    "\n",
    "## Summary\n",
    "In this project, Python was used to analyze the dataset from the 2018 Central Park Squirrel Census. The point of the project was to analyze and visualize how squirrels with different fur colors reacted to human encounters during the census.\n",
    "\n",
    "## Data \n",
    "The data was extracted from the NYC Open Data website: https://data.cityofnewyork.us/Environment/2018-Central-Park-Squirrel-Census-Squirrel-Data/vfnx-vebw. \n",
    "\n",
    "The dataset was downloaded as a CSV file under the name “2018_Central_Park_Squirrel_Census”.\n",
    "\n",
    "Given the size of the dataset itself, it was necessary to work on a dataframe which held only information relevant to this analysis; mainly, the data under the following columns: \n",
    "* “Primary Fur Color”: Contains three categorical values: “Gray”, “Cinnamon” and “Black” \n",
    "* “Approaches”: True/False value depending on whether the squirrel approached the person doing the census.\n",
    "* “Indifferent”: True/False value depending on whether the squirrel acted indifferent towards the person doing the census.\n",
    "* “Runs from”: True/False value depending on whether the squirrel ran from the person doing the census.\n"
   ]
  },
  {
   "cell_type": "code",
   "execution_count": 353,
   "id": "a5bad202-1c82-4b6f-aeee-cc6105a80e5a",
   "metadata": {},
   "outputs": [],
   "source": [
    "import matplotlib.pyplot as plt\n",
    "import pandas as pd\n",
    "import numpy as np\n",
    "from scipy.stats import ttest_ind"
   ]
  },
  {
   "cell_type": "code",
   "execution_count": 354,
   "id": "d3baa3c9-6141-4816-8e8e-77e64b7214e1",
   "metadata": {},
   "outputs": [],
   "source": [
    "squirrels = pd.read_csv(\"2018_Central_Park_Squirrel_Census.csv\")"
   ]
  },
  {
   "cell_type": "code",
   "execution_count": 355,
   "id": "0e6d07a2-c33f-4bd0-a945-f3cc8b12e828",
   "metadata": {},
   "outputs": [
    {
     "data": {
      "text/html": [
       "<div>\n",
       "<style scoped>\n",
       "    .dataframe tbody tr th:only-of-type {\n",
       "        vertical-align: middle;\n",
       "    }\n",
       "\n",
       "    .dataframe tbody tr th {\n",
       "        vertical-align: top;\n",
       "    }\n",
       "\n",
       "    .dataframe thead th {\n",
       "        text-align: right;\n",
       "    }\n",
       "</style>\n",
       "<table border=\"1\" class=\"dataframe\">\n",
       "  <thead>\n",
       "    <tr style=\"text-align: right;\">\n",
       "      <th></th>\n",
       "      <th>X</th>\n",
       "      <th>Y</th>\n",
       "      <th>Unique Squirrel ID</th>\n",
       "      <th>Hectare</th>\n",
       "      <th>Shift</th>\n",
       "      <th>Date</th>\n",
       "      <th>Hectare Squirrel Number</th>\n",
       "      <th>Age</th>\n",
       "      <th>Primary Fur Color</th>\n",
       "      <th>Highlight Fur Color</th>\n",
       "      <th>...</th>\n",
       "      <th>Kuks</th>\n",
       "      <th>Quaas</th>\n",
       "      <th>Moans</th>\n",
       "      <th>Tail flags</th>\n",
       "      <th>Tail twitches</th>\n",
       "      <th>Approaches</th>\n",
       "      <th>Indifferent</th>\n",
       "      <th>Runs from</th>\n",
       "      <th>Other Interactions</th>\n",
       "      <th>Lat/Long</th>\n",
       "    </tr>\n",
       "  </thead>\n",
       "  <tbody>\n",
       "    <tr>\n",
       "      <th>0</th>\n",
       "      <td>-73.956134</td>\n",
       "      <td>40.794082</td>\n",
       "      <td>37F-PM-1014-03</td>\n",
       "      <td>37F</td>\n",
       "      <td>PM</td>\n",
       "      <td>10142018</td>\n",
       "      <td>3</td>\n",
       "      <td>NaN</td>\n",
       "      <td>NaN</td>\n",
       "      <td>NaN</td>\n",
       "      <td>...</td>\n",
       "      <td>False</td>\n",
       "      <td>False</td>\n",
       "      <td>False</td>\n",
       "      <td>False</td>\n",
       "      <td>False</td>\n",
       "      <td>False</td>\n",
       "      <td>False</td>\n",
       "      <td>False</td>\n",
       "      <td>NaN</td>\n",
       "      <td>POINT (-73.9561344937861 40.7940823884086)</td>\n",
       "    </tr>\n",
       "    <tr>\n",
       "      <th>1</th>\n",
       "      <td>-73.968857</td>\n",
       "      <td>40.783783</td>\n",
       "      <td>21B-AM-1019-04</td>\n",
       "      <td>21B</td>\n",
       "      <td>AM</td>\n",
       "      <td>10192018</td>\n",
       "      <td>4</td>\n",
       "      <td>NaN</td>\n",
       "      <td>NaN</td>\n",
       "      <td>NaN</td>\n",
       "      <td>...</td>\n",
       "      <td>False</td>\n",
       "      <td>False</td>\n",
       "      <td>False</td>\n",
       "      <td>False</td>\n",
       "      <td>False</td>\n",
       "      <td>False</td>\n",
       "      <td>False</td>\n",
       "      <td>False</td>\n",
       "      <td>NaN</td>\n",
       "      <td>POINT (-73.9688574691102 40.7837825208444)</td>\n",
       "    </tr>\n",
       "    <tr>\n",
       "      <th>2</th>\n",
       "      <td>-73.974281</td>\n",
       "      <td>40.775534</td>\n",
       "      <td>11B-PM-1014-08</td>\n",
       "      <td>11B</td>\n",
       "      <td>PM</td>\n",
       "      <td>10142018</td>\n",
       "      <td>8</td>\n",
       "      <td>NaN</td>\n",
       "      <td>Gray</td>\n",
       "      <td>NaN</td>\n",
       "      <td>...</td>\n",
       "      <td>False</td>\n",
       "      <td>False</td>\n",
       "      <td>False</td>\n",
       "      <td>False</td>\n",
       "      <td>False</td>\n",
       "      <td>False</td>\n",
       "      <td>False</td>\n",
       "      <td>False</td>\n",
       "      <td>NaN</td>\n",
       "      <td>POINT (-73.97428114848522 40.775533619083)</td>\n",
       "    </tr>\n",
       "    <tr>\n",
       "      <th>3</th>\n",
       "      <td>-73.959641</td>\n",
       "      <td>40.790313</td>\n",
       "      <td>32E-PM-1017-14</td>\n",
       "      <td>32E</td>\n",
       "      <td>PM</td>\n",
       "      <td>10172018</td>\n",
       "      <td>14</td>\n",
       "      <td>Adult</td>\n",
       "      <td>Gray</td>\n",
       "      <td>NaN</td>\n",
       "      <td>...</td>\n",
       "      <td>False</td>\n",
       "      <td>False</td>\n",
       "      <td>False</td>\n",
       "      <td>False</td>\n",
       "      <td>False</td>\n",
       "      <td>False</td>\n",
       "      <td>False</td>\n",
       "      <td>True</td>\n",
       "      <td>NaN</td>\n",
       "      <td>POINT (-73.9596413903948 40.7903128889029)</td>\n",
       "    </tr>\n",
       "    <tr>\n",
       "      <th>4</th>\n",
       "      <td>-73.970268</td>\n",
       "      <td>40.776213</td>\n",
       "      <td>13E-AM-1017-05</td>\n",
       "      <td>13E</td>\n",
       "      <td>AM</td>\n",
       "      <td>10172018</td>\n",
       "      <td>5</td>\n",
       "      <td>Adult</td>\n",
       "      <td>Gray</td>\n",
       "      <td>Cinnamon</td>\n",
       "      <td>...</td>\n",
       "      <td>False</td>\n",
       "      <td>False</td>\n",
       "      <td>False</td>\n",
       "      <td>False</td>\n",
       "      <td>False</td>\n",
       "      <td>False</td>\n",
       "      <td>False</td>\n",
       "      <td>False</td>\n",
       "      <td>NaN</td>\n",
       "      <td>POINT (-73.9702676472613 40.7762126854894)</td>\n",
       "    </tr>\n",
       "  </tbody>\n",
       "</table>\n",
       "<p>5 rows × 31 columns</p>\n",
       "</div>"
      ],
      "text/plain": [
       "           X          Y Unique Squirrel ID Hectare Shift      Date  \\\n",
       "0 -73.956134  40.794082     37F-PM-1014-03     37F    PM  10142018   \n",
       "1 -73.968857  40.783783     21B-AM-1019-04     21B    AM  10192018   \n",
       "2 -73.974281  40.775534     11B-PM-1014-08     11B    PM  10142018   \n",
       "3 -73.959641  40.790313     32E-PM-1017-14     32E    PM  10172018   \n",
       "4 -73.970268  40.776213     13E-AM-1017-05     13E    AM  10172018   \n",
       "\n",
       "   Hectare Squirrel Number    Age Primary Fur Color Highlight Fur Color  ...  \\\n",
       "0                        3    NaN               NaN                 NaN  ...   \n",
       "1                        4    NaN               NaN                 NaN  ...   \n",
       "2                        8    NaN              Gray                 NaN  ...   \n",
       "3                       14  Adult              Gray                 NaN  ...   \n",
       "4                        5  Adult              Gray            Cinnamon  ...   \n",
       "\n",
       "    Kuks  Quaas  Moans Tail flags Tail twitches  Approaches  Indifferent  \\\n",
       "0  False  False  False      False         False       False        False   \n",
       "1  False  False  False      False         False       False        False   \n",
       "2  False  False  False      False         False       False        False   \n",
       "3  False  False  False      False         False       False        False   \n",
       "4  False  False  False      False         False       False        False   \n",
       "\n",
       "   Runs from  Other Interactions                                    Lat/Long  \n",
       "0      False                 NaN  POINT (-73.9561344937861 40.7940823884086)  \n",
       "1      False                 NaN  POINT (-73.9688574691102 40.7837825208444)  \n",
       "2      False                 NaN  POINT (-73.97428114848522 40.775533619083)  \n",
       "3       True                 NaN  POINT (-73.9596413903948 40.7903128889029)  \n",
       "4      False                 NaN  POINT (-73.9702676472613 40.7762126854894)  \n",
       "\n",
       "[5 rows x 31 columns]"
      ]
     },
     "execution_count": 355,
     "metadata": {},
     "output_type": "execute_result"
    }
   ],
   "source": [
    "squirrels.head()"
   ]
  },
  {
   "cell_type": "markdown",
   "id": "b10e275b-baaf-4a31-82de-d4a0ea2cac10",
   "metadata": {},
   "source": [
    "The 2018 census covered a total of 2968 squirrels. Of these:\n",
    "* 2473 were gray\n",
    "* 392 were cinnamon\n",
    "* 103 were black"
   ]
  },
  {
   "cell_type": "code",
   "execution_count": 356,
   "id": "3c26f11e-0071-45d3-aab3-0d893a483ce6",
   "metadata": {},
   "outputs": [
    {
     "name": "stdout",
     "output_type": "stream",
     "text": [
      "Total squirrels: 2968\n",
      "Primary Fur Color\n",
      "Gray        2473\n",
      "Cinnamon     392\n",
      "Black        103\n",
      "Name: count, dtype: int64\n"
     ]
    }
   ],
   "source": [
    "print('Total squirrels: ' +str(squirrels['Primary Fur Color'].count()))\n",
    "print(str(squirrels['Primary Fur Color'].value_counts()))"
   ]
  },
  {
   "cell_type": "markdown",
   "id": "1d27d3e4-6758-4ae3-8087-4bb2eb46be98",
   "metadata": {},
   "source": [
    "## Analysis\n",
    "The squirrels were grouped by colors and their responses were aggregated into sums of \"succeses\" for each.\n",
    "\n",
    "* 178 squirrels approached humans during the census\n",
    "    * 6 black\n",
    "    * 44 cinnamon\n",
    "    * 126 gray\n",
    "    * 2 non-determined\n",
    "* 678 squirrels ran from humans during the census\n",
    "  * 32 black\n",
    "  * 87 cinnamon\n",
    "  * 551 gray\n",
    "  * 8 non-determined\n",
    "* 1454 squirrels acted indifferent towards humans during the census\n",
    "  * 44 black\n",
    "  * 181 cinnamon\n",
    "  * 1219 gray\n",
    "  * 10 non-determined"
   ]
  },
  {
   "cell_type": "code",
   "execution_count": 357,
   "id": "8d391caf-f66b-47ae-81a7-6e447cf82ea9",
   "metadata": {},
   "outputs": [
    {
     "name": "stdout",
     "output_type": "stream",
     "text": [
      "Approaches: 178\n",
      "Indifferent: 1454\n",
      "Runs from: 678\n"
     ]
    }
   ],
   "source": [
    "print('Approaches: ' + str((squirrels['Approaches']==True).sum()))\n",
    "print('Indifferent: ' + str((squirrels['Indifferent']==True).sum()))\n",
    "print('Runs from: ' + str((squirrels['Runs from']==True).sum()))"
   ]
  },
  {
   "cell_type": "code",
   "execution_count": 358,
   "id": "9316b8a9-06b3-4a2d-b357-ce8b80c0be0d",
   "metadata": {},
   "outputs": [],
   "source": [
    "squirrel_colors_sum = squirrels.groupby('Primary Fur Color').agg({'Approaches':'sum', 'Indifferent':'sum', 'Runs from': 'sum'})"
   ]
  },
  {
   "cell_type": "code",
   "execution_count": 359,
   "id": "edfda4e2-4238-475e-99b7-a32bee24861c",
   "metadata": {},
   "outputs": [
    {
     "data": {
      "text/html": [
       "<div>\n",
       "<style scoped>\n",
       "    .dataframe tbody tr th:only-of-type {\n",
       "        vertical-align: middle;\n",
       "    }\n",
       "\n",
       "    .dataframe tbody tr th {\n",
       "        vertical-align: top;\n",
       "    }\n",
       "\n",
       "    .dataframe thead th {\n",
       "        text-align: right;\n",
       "    }\n",
       "</style>\n",
       "<table border=\"1\" class=\"dataframe\">\n",
       "  <thead>\n",
       "    <tr style=\"text-align: right;\">\n",
       "      <th></th>\n",
       "      <th>Approaches</th>\n",
       "      <th>Indifferent</th>\n",
       "      <th>Runs from</th>\n",
       "    </tr>\n",
       "    <tr>\n",
       "      <th>Primary Fur Color</th>\n",
       "      <th></th>\n",
       "      <th></th>\n",
       "      <th></th>\n",
       "    </tr>\n",
       "  </thead>\n",
       "  <tbody>\n",
       "    <tr>\n",
       "      <th>Black</th>\n",
       "      <td>6</td>\n",
       "      <td>44</td>\n",
       "      <td>32</td>\n",
       "    </tr>\n",
       "    <tr>\n",
       "      <th>Cinnamon</th>\n",
       "      <td>44</td>\n",
       "      <td>181</td>\n",
       "      <td>87</td>\n",
       "    </tr>\n",
       "    <tr>\n",
       "      <th>Gray</th>\n",
       "      <td>126</td>\n",
       "      <td>1219</td>\n",
       "      <td>551</td>\n",
       "    </tr>\n",
       "  </tbody>\n",
       "</table>\n",
       "</div>"
      ],
      "text/plain": [
       "                   Approaches  Indifferent  Runs from\n",
       "Primary Fur Color                                    \n",
       "Black                       6           44         32\n",
       "Cinnamon                   44          181         87\n",
       "Gray                      126         1219        551"
      ]
     },
     "execution_count": 359,
     "metadata": {},
     "output_type": "execute_result"
    }
   ],
   "source": [
    "squirrel_colors_sum"
   ]
  },
  {
   "cell_type": "markdown",
   "id": "4a35d269-442a-4e24-bb89-647e0b75737e",
   "metadata": {},
   "source": [
    "* The overall rate of approaches during the census was of  5.9%\n",
    "    * Rate of approaches for black squirrels was 5.8%\n",
    "    * For cinnamon squirrels was 11.2%\n",
    "    * For gray squirrels 5.1%\n",
    "* Overall rate of indifference was 48.1%\n",
    "  * Rate of indifference for black squirrels was 42.7%\n",
    "  * For cinnamon squirrels 46.2%\n",
    "  * For Gray squirrels 49.3%\n",
    "* Overall rate of escape (running from) was 22.4%\n",
    "    * Escape rate for black squirrels was 31.1%\n",
    "    * For cinnamon squirrels, 22.2%\n",
    "    * For gray squirrels, 22.3%"
   ]
  },
  {
   "cell_type": "code",
   "execution_count": 360,
   "id": "be190e7e-b10f-43fb-8ba5-ccaebd825c51",
   "metadata": {
    "scrolled": true
   },
   "outputs": [
    {
     "name": "stdout",
     "output_type": "stream",
     "text": [
      "Approaches mean: 0.058881905391994706\n",
      "Indifferent mean: 0.4809791597750579\n",
      "Runs from: 0.22428051604366522\n"
     ]
    }
   ],
   "source": [
    "print('Approaches mean: ' + str(squirrels['Approaches'].mean()))\n",
    "print('Indifferent mean: ' + str(squirrels['Indifferent'].mean()))\n",
    "print('Runs from: ' + str(squirrels['Runs from'].mean()))"
   ]
  },
  {
   "cell_type": "code",
   "execution_count": 361,
   "id": "d6f630f0-7635-40aa-826b-613b6ff7213f",
   "metadata": {
    "scrolled": true
   },
   "outputs": [
    {
     "data": {
      "text/html": [
       "<div>\n",
       "<style scoped>\n",
       "    .dataframe tbody tr th:only-of-type {\n",
       "        vertical-align: middle;\n",
       "    }\n",
       "\n",
       "    .dataframe tbody tr th {\n",
       "        vertical-align: top;\n",
       "    }\n",
       "\n",
       "    .dataframe thead th {\n",
       "        text-align: right;\n",
       "    }\n",
       "</style>\n",
       "<table border=\"1\" class=\"dataframe\">\n",
       "  <thead>\n",
       "    <tr style=\"text-align: right;\">\n",
       "      <th></th>\n",
       "      <th>Approaches</th>\n",
       "      <th>Indifferent</th>\n",
       "      <th>Runs from</th>\n",
       "    </tr>\n",
       "    <tr>\n",
       "      <th>Primary Fur Color</th>\n",
       "      <th></th>\n",
       "      <th></th>\n",
       "      <th></th>\n",
       "    </tr>\n",
       "  </thead>\n",
       "  <tbody>\n",
       "    <tr>\n",
       "      <th>Black</th>\n",
       "      <td>0.058252</td>\n",
       "      <td>0.427184</td>\n",
       "      <td>0.310680</td>\n",
       "    </tr>\n",
       "    <tr>\n",
       "      <th>Cinnamon</th>\n",
       "      <td>0.112245</td>\n",
       "      <td>0.461735</td>\n",
       "      <td>0.221939</td>\n",
       "    </tr>\n",
       "    <tr>\n",
       "      <th>Gray</th>\n",
       "      <td>0.050950</td>\n",
       "      <td>0.492924</td>\n",
       "      <td>0.222806</td>\n",
       "    </tr>\n",
       "    <tr>\n",
       "      <th>Overall</th>\n",
       "      <td>0.058882</td>\n",
       "      <td>0.480979</td>\n",
       "      <td>0.224281</td>\n",
       "    </tr>\n",
       "  </tbody>\n",
       "</table>\n",
       "</div>"
      ],
      "text/plain": [
       "                   Approaches  Indifferent  Runs from\n",
       "Primary Fur Color                                    \n",
       "Black                0.058252     0.427184   0.310680\n",
       "Cinnamon             0.112245     0.461735   0.221939\n",
       "Gray                 0.050950     0.492924   0.222806\n",
       "Overall              0.058882     0.480979   0.224281"
      ]
     },
     "execution_count": 361,
     "metadata": {},
     "output_type": "execute_result"
    }
   ],
   "source": [
    "squirrels_colors_mean = squirrels.groupby('Primary Fur Color').agg({'Approaches':'mean', 'Indifferent':'mean', 'Runs from': 'mean'})\n",
    "squirrels_colors_mean.loc['Overall'] = [0.058881905391994706,  0.4809791597750579, 0.22428051604366522]\n",
    "squirrels_colors_mean"
   ]
  },
  {
   "cell_type": "markdown",
   "id": "74edbfc9-0111-43e1-a86d-4aa6f5785be9",
   "metadata": {},
   "source": [
    "## Visualizing\n",
    "The data was visualized with a trio of bar charts, each representing the mean of responses for each squirrel color. The charts were fed the data from squirrels_colors_mean, as arrays, and multiplied by 100."
   ]
  },
  {
   "cell_type": "code",
   "execution_count": 362,
   "id": "77089b57-95fb-459d-80a1-7f088c1cf08c",
   "metadata": {},
   "outputs": [],
   "source": [
    "array_approaches_mean = np.array(squirrels_colors_mean['Approaches']) * 100\n",
    "array_indifferent_mean = np.array(squirrels_colors_mean['Indifferent']) * 100\n",
    "array_runsfrom_mean = np.array(squirrels_colors_mean['Runs from']) * 100\n",
    "bar_colors = ['black', 'saddlebrown', 'slategrey', 'olive']"
   ]
  },
  {
   "cell_type": "code",
   "execution_count": 376,
   "id": "91002b56-6814-4f3c-bee8-b387183117f4",
   "metadata": {},
   "outputs": [
    {
     "data": {
      "image/png": "[encoded data removed]",
      "text/plain": [
       "<Figure size 500x600 with 3 Axes>"
      ]
     },
     "metadata": {},
     "output_type": "display_data"
    }
   ],
   "source": [
    "\n",
    "plt.figure(figsize=(5,6), tight_layout=True, edgecolor='black')\n",
    "plt.suptitle('How Central Park Squirrels React to Human Encounters', fontweight='heavy')\n",
    "\n",
    "plt.subplot(3,1,1)\n",
    "plt.bar(x=chart_labels, height=array_approaches_mean, color=bar_colors, width = 0.5)\n",
    "plt.axhline(y =5.9, xmin =0, xmax=1, linewidth=1.7, color = 'red', dashes=(1,2))\n",
    "plt.title('Squirrel Approaches')\n",
    "\n",
    "plt.subplot(3,1,2)\n",
    "plt.bar(x=chart_labels, height=array_indifferent_mean, color=bar_colors, width = 0.5)\n",
    "plt.axhline(y =48.1, xmin =0, xmax=1, linewidth=1.7, color = 'red', dashes=(1,2))\n",
    "\n",
    "plt.title('Indifferent Squirrels')\n",
    "\n",
    "plt.subplot(3,1,3)\n",
    "plt.bar(x=chart_labels, height=array_runsfrom_mean, color=bar_colors, width = 0.5)\n",
    "plt.axhline(y =22.4, xmin =0, xmax=1, linewidth=1.7, color = 'red', dashes=(1,2))\n",
    "plt.title('Squirrels that Ran')\n",
    "\n",
    "plt.savefig('Squirrel_Census_Reactions.png', format='png', dpi=129, bbox_inches='tight')\n",
    "\n",
    "plt.show()"
   ]
  },
  {
   "cell_type": "markdown",
   "id": "587526fd-16f3-4c39-9f6f-e6bd4f5d3f6c",
   "metadata": {},
   "source": [
    "Indifferent responses for each squirrel color were pretty close to the overall indifferent response. However, there were noticeable differences in escapes and approaches.\n",
    "* Cinnamon squirrels approached humans at a rate that doubles the overall and the rest of the squirrels.\n",
    "* There was a 10 percentage point difference between the average for black squirrel escapes when compared to the overall and the rest of the squirrels."
   ]
  },
  {
   "cell_type": "markdown",
   "id": "09a03626-3898-46ab-bbf6-40b358a4e166",
   "metadata": {},
   "source": [
    "## Hypo testing\n",
    "A 2 sample T-test was executed to determine whether there was a correlation between a squirrel's fur color and whether it approached or ran away from humans during the census. In particular, it was asked if:\n",
    "* There's any significance to the higher rate of approaches by cinnamon squirrels, or was it a matter of random chance.\n",
    "* There's any significance to the higher rate of escapes by black squirrels, or was it a matter of random chance.\n",
    "\n",
    "Null hypothesis for both would point to random chance as the difference in rates between the responses of specified colored squirrels and the overall response."
   ]
  },
  {
   "cell_type": "markdown",
   "id": "3b34485e-60e8-4d95-b90a-458c181aeb15",
   "metadata": {},
   "source": [
    "### Cinnamon Squirrel Approaches 2 Sample T-Test"
   ]
  },
  {
   "cell_type": "code",
   "execution_count": 374,
   "id": "8c082eea-8ffe-4f44-9a27-1ebed387ff4a",
   "metadata": {},
   "outputs": [
    {
     "name": "stdout",
     "output_type": "stream",
     "text": [
      "5.4522329064122926e-05\n"
     ]
    }
   ],
   "source": [
    "cinnamon_sample_1 = squirrels['Approaches']\n",
    "\n",
    "mask_1 = squirrels['Primary Fur Color'] == 'Cinnamon'\n",
    "cinnamon_sample_2 = squirrels[mask_1]\n",
    "cinnamon_sample_2 = cinnamon_sample_2['Approaches']\n",
    "\n",
    "tstat, pval = ttest_ind(cinnamon_sample_1, cinnamon_sample_2)\n",
    "print(pval)"
   ]
  },
  {
   "cell_type": "markdown",
   "id": "eaf5c541-d70b-4224-852b-1939de31ff18",
   "metadata": {},
   "source": [
    "P-value for the test was 5.4522329064122926e-05, or 0.000054522329064122926, or 0.005%. <br>\n",
    "Null hypothesis is thus rejected, which points to a potential correlation between cinnamon squirrels' fur color and their propensity to approach humans at a higher rate than the overall mean during the 2018 Central Park Census. "
   ]
  },
  {
   "cell_type": "markdown",
   "id": "1906381d-87d7-46c1-a21f-cbeec23ed14d",
   "metadata": {},
   "source": [
    "### Black Squirrel Escapes 2 Sample T-Test"
   ]
  },
  {
   "cell_type": "code",
   "execution_count": 375,
   "id": "0286cd80-fee6-47ff-9745-3bed32561363",
   "metadata": {},
   "outputs": [
    {
     "name": "stdout",
     "output_type": "stream",
     "text": [
      "0.039593847841915504\n"
     ]
    }
   ],
   "source": [
    "black_sample_1 = squirrels['Runs from']\n",
    "\n",
    "black_mask_1 = squirrels['Primary Fur Color'] == 'Black'\n",
    "black_sample_2 = squirrels[black_mask_1]\n",
    "black_sample_2 = black_sample_2['Runs from']\n",
    "\n",
    "tstat, pval = ttest_ind(black_sample_1, black_sample_2)\n",
    "print(pval)"
   ]
  },
  {
   "cell_type": "markdown",
   "id": "013f774b-bbc2-4fb7-ab96-424801af9d9f",
   "metadata": {},
   "source": [
    "P-value for the test was 0.039593847841915504, or 3.96%. <br>\n",
    "Null hypothesis is thus rejected, which points to a potential correlation between black squirrels' fur color and their propensity to run away from humans at a higher rate than the overall mean during the 2018 Central Park Census."
   ]
  },
  {
   "cell_type": "markdown",
   "id": "5007beeb-9054-4fbd-8fd8-b905ff5a3378",
   "metadata": {},
   "source": [
    "## Conclusion\n",
    "More data would be needed to determine if there's an overall correlation between a squirrel's fur color and its timidity in human encounters. Perhaps a look at other Central Park Squirrel censuses would be in order.\n",
    "\n",
    "There's also a chance that other factors affected squirrels' responses to human encounters during the census, like the area they were located in, their age or if the encounter happened while the squirrel was on the ground or above it."
   ]
  },
  {
   "cell_type": "code",
   "execution_count": null,
   "id": "1f3a1927-ade1-4bd7-9c9d-0ed5495606a4",
   "metadata": {},
   "outputs": [],
   "source": []
  }
 ],
 "metadata": {
  "kernelspec": {
   "display_name": "Python 3 (ipykernel)",
   "language": "python",
   "name": "python3"
  },
  "language_info": {
   "codemirror_mode": {
    "name": "ipython",
    "version": 3
   },
   "file_extension": ".py",
   "mimetype": "text/x-python",
   "name": "python",
   "nbconvert_exporter": "python",
   "pygments_lexer": "ipython3",
   "version": "3.12.3"
  }
 },
 "nbformat": 4,
 "nbformat_minor": 5
}
